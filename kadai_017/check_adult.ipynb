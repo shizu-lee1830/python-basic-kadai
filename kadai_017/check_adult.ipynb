{
  "nbformat": 4,
  "nbformat_minor": 0,
  "metadata": {
    "colab": {
      "provenance": []
    },
    "kernelspec": {
      "name": "python3",
      "display_name": "Python 3"
    },
    "language_info": {
      "name": "python"
    }
  },
  "cells": [
    {
      "cell_type": "code",
      "source": [
        "class Human:\n",
        "\n",
        "  def __init__(self, name, age):\n",
        "    self.name = name\n",
        "    self.age = age\n",
        "\n",
        "  def check_adult(self):\n",
        "    if self.age >= 20:\n",
        "      print(f\"{self.name}さん（{self.age}）は大人です。\")\n",
        "    else:\n",
        "      print(f\"{self.name}さん（{self.age}）は大人ではありません。\")\n",
        "\n",
        "humans = [\n",
        "    Human(\"鈴木\", 20),\n",
        "    Human(\"佐藤\", 13),\n",
        "    Human(\"田中\", 34),\n",
        "    Human(\"高橋\", 40),\n",
        "    Human(\"渡辺\",8)\n",
        "]\n",
        "\n",
        "for human in humans:\n",
        "  human.check_adult()"
      ],
      "metadata": {
        "id": "1sNSzLrFAaxu",
        "outputId": "1c721ac5-75cd-4111-af07-a39290be94da",
        "colab": {
          "base_uri": "https://localhost:8080/"
        }
      },
      "execution_count": 1,
      "outputs": [
        {
          "output_type": "stream",
          "name": "stdout",
          "text": [
            "鈴木さん（20）は大人です。\n",
            "佐藤さん（13）は大人ではありません。\n",
            "田中さん（34）は大人です。\n",
            "高橋さん（40）は大人です。\n",
            "渡辺さん（8）は大人ではありません。\n"
          ]
        }
      ]
    }
  ]
}
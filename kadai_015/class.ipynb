{
  "nbformat": 4,
  "nbformat_minor": 0,
  "metadata": {
    "colab": {
      "provenance": []
    },
    "kernelspec": {
      "name": "python3",
      "display_name": "Python 3"
    },
    "language_info": {
      "name": "python"
    }
  },
  "cells": [
    {
      "cell_type": "code",
      "source": [
        "class Human:\n",
        "\n",
        "  def __init__(self, name, age):\n",
        "    self.name = name\n",
        "    self.age = age\n",
        "\n",
        "  def printinfo(self):\n",
        "    print(f\"名前：{self.name}\")\n",
        "    print(f\"年齢：{self.age}\")\n",
        "\n",
        "human = Human(\"鈴木\", \"30\")\n",
        "\n",
        "human.printinfo()"
      ],
      "metadata": {
        "colab": {
          "base_uri": "https://localhost:8080/"
        },
        "id": "KZ3ODtYiSi-H",
        "outputId": "40ccfe9a-e165-475e-de25-4b7de33bea67"
      },
      "execution_count": 1,
      "outputs": [
        {
          "output_type": "stream",
          "name": "stdout",
          "text": [
            "名前：鈴木\n",
            "年齢：30\n"
          ]
        }
      ]
    }
  ]
}
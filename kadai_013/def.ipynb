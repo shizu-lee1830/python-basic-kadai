{
  "nbformat": 4,
  "nbformat_minor": 0,
  "metadata": {
    "colab": {
      "provenance": []
    },
    "kernelspec": {
      "name": "python3",
      "display_name": "Python 3"
    },
    "language_info": {
      "name": "python"
    }
  },
  "cells": [
    {
      "cell_type": "code",
      "source": [
        "def calculate_tax(price: int, tax: int) -> int:\n",
        "  total_tax = (price / tax)\n",
        "  print(total_tax)\n",
        "\n",
        "calculate_tax(110, 10)"
      ],
      "metadata": {
        "colab": {
          "base_uri": "https://localhost:8080/"
        },
        "id": "RDk6KPyymyBz",
        "outputId": "eb4d2276-18c0-4ab4-c8a2-149acb3f78fb"
      },
      "execution_count": 1,
      "outputs": [
        {
          "output_type": "stream",
          "name": "stdout",
          "text": [
            "11.0\n"
          ]
        }
      ]
    }
  ]
}